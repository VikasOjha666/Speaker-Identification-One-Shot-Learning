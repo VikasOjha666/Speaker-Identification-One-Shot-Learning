{
 "cells": [
  {
   "cell_type": "code",
   "execution_count": 1,
   "metadata": {},
   "outputs": [
    {
     "name": "stderr",
     "output_type": "stream",
     "text": [
      "Using TensorFlow backend.\n"
     ]
    }
   ],
   "source": [
    "import librosa\n",
    "#Importing bunch of libraries.\n",
    "import cv2\n",
    "import os\n",
    "import librosa\n",
    "import librosa.display\n",
    "import numpy as np\n",
    "import matplotlib.pyplot as plt\n",
    "from keras.models import load_model\n",
    "\n",
    "model=load_model('SpeakerID_best.hdf5')\n",
    "\n"
   ]
  },
  {
   "cell_type": "code",
   "execution_count": 2,
   "metadata": {},
   "outputs": [],
   "source": [
    "#Converts the audio into spectrogram.\n",
    "def create_spectrogram(filepath,save_path):\n",
    "  plt.interactive(False)\n",
    "  clip,sample_rate=librosa.load(filepath,sr=None)\n",
    "  fig=plt.figure(figsize=[0.72,0.72])\n",
    "  ax=fig.add_subplot(111)\n",
    "  ax.axes.get_xaxis().set_visible(False)\n",
    "  ax.axes.get_yaxis().set_visible(False)\n",
    "  ax.set_frame_on(False)\n",
    "  S=librosa.feature.melspectrogram(y=clip,sr=sample_rate)\n",
    "  librosa.display.specshow(librosa.power_to_db(S,ref=np.max))\n",
    "  fig.savefig(save_path,dpi=400,bbox_inches='tight',pad_inches=0)\n",
    "  plt.close()\n",
    "  fig.clf()\n",
    "  plt.close(fig)\n",
    "  plt.close('all')\n",
    "  del filepath,save_path,clip,sample_rate,fig,ax,S"
   ]
  },
  {
   "cell_type": "code",
   "execution_count": 3,
   "metadata": {},
   "outputs": [],
   "source": [
    "def load_img(path):\n",
    "  img=cv2.imread(path)\n",
    "  img=cv2.cvtColor(img,cv2.COLOR_BGR2RGB)\n",
    "  img=cv2.resize(img,(150,150))\n",
    "  return img"
   ]
  },
  {
   "cell_type": "code",
   "execution_count": 7,
   "metadata": {},
   "outputs": [],
   "source": [
    "#This loop takes each file and converts them into spectrogram and save them as jpeg image.\n",
    "files_list=['1034-121119-0000.flac','1040-133433-0007.flac','1040-133433-0004.flac','Sudhashu2.flac','Vik2.flac','Vik.flac','Sudhanshu.flac']\n",
    "for i in range(len(files_list)):\n",
    "    filepath='Test_audio_files/'+files_list[i]\n",
    "    new_name=files_list[i].split('.')[0]\n",
    "    savepath='Generated_images/'+new_name+'.jpg'\n",
    "    create_spectrogram(filepath,savepath)\n"
   ]
  },
  {
   "cell_type": "code",
   "execution_count": 8,
   "metadata": {},
   "outputs": [],
   "source": [
    "#This part contains the list of all file names and a function which compares them with the supplied input.\n",
    "all_files_list=['1034-121119-0000.jpg','1040-133433-0007.jpg','1040-133433-0004.jpg','Sudhashu2.jpg','Vik2.jpg']\n",
    "\n",
    "\n",
    "def match_file(filename):\n",
    "    score_list=[]\n",
    "    img1=load_img('Generated_images/'+filename)\n",
    "    img1=img1/255\n",
    "    for i in range(len(all_files_list)):\n",
    "        \n",
    "        img2=load_img('Generated_images/'+all_files_list[i])\n",
    "        img2=img2/255\n",
    "        X=[np.zeros((1,150,150,3)) for i in range(2)]\n",
    "        Y=[np.zeros(1,)]\n",
    "        X[0][0,:,:,:]=img1\n",
    "        X[1][0,:,:,:]=img2\n",
    "        score_list.append(model.predict(X))\n",
    "    score_list=np.array(score_list)\n",
    "    idx=np.argmax(score_list)\n",
    "    return all_files_list[idx],score_list\n"
   ]
  },
  {
   "cell_type": "code",
   "execution_count": 9,
   "metadata": {},
   "outputs": [],
   "source": [
    "name,score=match_file('Vik.jpg')"
   ]
  },
  {
   "cell_type": "code",
   "execution_count": 10,
   "metadata": {},
   "outputs": [
    {
     "name": "stdout",
     "output_type": "stream",
     "text": [
      "Vik2.jpg\n"
     ]
    }
   ],
   "source": [
    "print(name)"
   ]
  }
 ],
 "metadata": {
  "accelerator": "TPU",
  "colab": {
   "collapsed_sections": [],
   "name": "Untitled2.ipynb",
   "provenance": [],
   "version": "0.3.2"
  },
  "kernelspec": {
   "display_name": "TensorFlow-GPU",
   "language": "python",
   "name": "tensorflow"
  },
  "language_info": {
   "codemirror_mode": {
    "name": "ipython",
    "version": 3
   },
   "file_extension": ".py",
   "mimetype": "text/x-python",
   "name": "python",
   "nbconvert_exporter": "python",
   "pygments_lexer": "ipython3",
   "version": "3.6.8"
  }
 },
 "nbformat": 4,
 "nbformat_minor": 1
}
